{
 "cells": [
  {
   "cell_type": "markdown",
   "id": "4b1f2ec3",
   "metadata": {},
   "source": [
    "## Clean and Wrangle Data"
   ]
  },
  {
   "cell_type": "code",
   "execution_count": 1,
   "id": "95386803",
   "metadata": {},
   "outputs": [],
   "source": [
    "import numpy as np \n",
    "import pandas as pd"
   ]
  },
  {
   "cell_type": "code",
   "execution_count": 2,
   "id": "5e0db672",
   "metadata": {},
   "outputs": [],
   "source": [
    "#import numpy as np\n",
    "import pylab as pl\n",
    "#import pandas as pd\n",
    "import matplotlib.pyplot as plt \n",
    "%matplotlib inline\n",
    "import seaborn as sns\n",
    "#from sklearn.utils import shuffle\n",
    "#from sklearn.svm import SVC\n",
    "#from sklearn.metrics import confusion_matrix,classification_report\n",
    "#from sklearn.model_selection import cross_val_score, GridSearchCV"
   ]
  },
  {
   "cell_type": "code",
   "execution_count": 3,
   "id": "daf0be59",
   "metadata": {
    "scrolled": true
   },
   "outputs": [],
   "source": [
    "merged_whr = pd.read_csv('WHR_Datasets/whr_merged.csv') "
   ]
  },
  {
   "cell_type": "code",
   "execution_count": 4,
   "id": "d303a2aa",
   "metadata": {
    "scrolled": true
   },
   "outputs": [
    {
     "data": {
      "text/plain": [
       "(1229, 12)"
      ]
     },
     "execution_count": 4,
     "metadata": {},
     "output_type": "execute_result"
    }
   ],
   "source": [
    "merged_whr.shape #1229 rows and 12 cols"
   ]
  },
  {
   "cell_type": "code",
   "execution_count": 5,
   "id": "5096c237",
   "metadata": {
    "scrolled": false
   },
   "outputs": [
    {
     "data": {
      "text/html": [
       "<div>\n",
       "<style scoped>\n",
       "    .dataframe tbody tr th:only-of-type {\n",
       "        vertical-align: middle;\n",
       "    }\n",
       "\n",
       "    .dataframe tbody tr th {\n",
       "        vertical-align: top;\n",
       "    }\n",
       "\n",
       "    .dataframe thead th {\n",
       "        text-align: right;\n",
       "    }\n",
       "</style>\n",
       "<table border=\"1\" class=\"dataframe\">\n",
       "  <thead>\n",
       "    <tr style=\"text-align: right;\">\n",
       "      <th></th>\n",
       "      <th>Unnamed: 0</th>\n",
       "      <th>Happiness Rank</th>\n",
       "      <th>Country</th>\n",
       "      <th>Region</th>\n",
       "      <th>Happiness Score</th>\n",
       "      <th>Economy (GDP per Capita)</th>\n",
       "      <th>Family (Social Support)</th>\n",
       "      <th>Health (Life Expectancy)</th>\n",
       "      <th>Freedom</th>\n",
       "      <th>Trust (Government Corruption)</th>\n",
       "      <th>Generosity</th>\n",
       "      <th>Year</th>\n",
       "    </tr>\n",
       "  </thead>\n",
       "  <tbody>\n",
       "    <tr>\n",
       "      <th>0</th>\n",
       "      <td>0</td>\n",
       "      <td>1</td>\n",
       "      <td>Switzerland</td>\n",
       "      <td>Western Europe</td>\n",
       "      <td>7.587</td>\n",
       "      <td>1.39651</td>\n",
       "      <td>1.34951</td>\n",
       "      <td>0.94143</td>\n",
       "      <td>0.66557</td>\n",
       "      <td>0.41978</td>\n",
       "      <td>0.29678</td>\n",
       "      <td>2015</td>\n",
       "    </tr>\n",
       "    <tr>\n",
       "      <th>1</th>\n",
       "      <td>1</td>\n",
       "      <td>2</td>\n",
       "      <td>Iceland</td>\n",
       "      <td>Western Europe</td>\n",
       "      <td>7.561</td>\n",
       "      <td>1.30232</td>\n",
       "      <td>1.40223</td>\n",
       "      <td>0.94784</td>\n",
       "      <td>0.62877</td>\n",
       "      <td>0.14145</td>\n",
       "      <td>0.4363</td>\n",
       "      <td>2015</td>\n",
       "    </tr>\n",
       "    <tr>\n",
       "      <th>2</th>\n",
       "      <td>2</td>\n",
       "      <td>3</td>\n",
       "      <td>Denmark</td>\n",
       "      <td>Western Europe</td>\n",
       "      <td>7.527</td>\n",
       "      <td>1.32548</td>\n",
       "      <td>1.36058</td>\n",
       "      <td>0.87464</td>\n",
       "      <td>0.64938</td>\n",
       "      <td>0.48357</td>\n",
       "      <td>0.34139</td>\n",
       "      <td>2015</td>\n",
       "    </tr>\n",
       "    <tr>\n",
       "      <th>3</th>\n",
       "      <td>3</td>\n",
       "      <td>4</td>\n",
       "      <td>Norway</td>\n",
       "      <td>Western Europe</td>\n",
       "      <td>7.522</td>\n",
       "      <td>1.459</td>\n",
       "      <td>1.33095</td>\n",
       "      <td>0.88521</td>\n",
       "      <td>0.66973</td>\n",
       "      <td>0.36503</td>\n",
       "      <td>0.34699</td>\n",
       "      <td>2015</td>\n",
       "    </tr>\n",
       "    <tr>\n",
       "      <th>4</th>\n",
       "      <td>4</td>\n",
       "      <td>5</td>\n",
       "      <td>Canada</td>\n",
       "      <td>North America</td>\n",
       "      <td>7.427</td>\n",
       "      <td>1.32629</td>\n",
       "      <td>1.32261</td>\n",
       "      <td>0.90563</td>\n",
       "      <td>0.63297</td>\n",
       "      <td>0.32957</td>\n",
       "      <td>0.45811</td>\n",
       "      <td>2015</td>\n",
       "    </tr>\n",
       "  </tbody>\n",
       "</table>\n",
       "</div>"
      ],
      "text/plain": [
       "   Unnamed: 0  Happiness Rank      Country          Region Happiness Score  \\\n",
       "0           0               1  Switzerland  Western Europe           7.587   \n",
       "1           1               2      Iceland  Western Europe           7.561   \n",
       "2           2               3      Denmark  Western Europe           7.527   \n",
       "3           3               4       Norway  Western Europe           7.522   \n",
       "4           4               5       Canada   North America           7.427   \n",
       "\n",
       "  Economy (GDP per Capita) Family (Social Support) Health (Life Expectancy)  \\\n",
       "0                  1.39651                 1.34951                  0.94143   \n",
       "1                  1.30232                 1.40223                  0.94784   \n",
       "2                  1.32548                 1.36058                  0.87464   \n",
       "3                    1.459                 1.33095                  0.88521   \n",
       "4                  1.32629                 1.32261                  0.90563   \n",
       "\n",
       "   Freedom Trust (Government Corruption) Generosity  Year  \n",
       "0  0.66557                       0.41978    0.29678  2015  \n",
       "1  0.62877                       0.14145     0.4363  2015  \n",
       "2  0.64938                       0.48357    0.34139  2015  \n",
       "3  0.66973                       0.36503    0.34699  2015  \n",
       "4  0.63297                       0.32957    0.45811  2015  "
      ]
     },
     "execution_count": 5,
     "metadata": {},
     "output_type": "execute_result"
    }
   ],
   "source": [
    "merged_whr.head()"
   ]
  },
  {
   "cell_type": "code",
   "execution_count": 6,
   "id": "f484f36c",
   "metadata": {
    "scrolled": true
   },
   "outputs": [
    {
     "data": {
      "text/html": [
       "<div>\n",
       "<style scoped>\n",
       "    .dataframe tbody tr th:only-of-type {\n",
       "        vertical-align: middle;\n",
       "    }\n",
       "\n",
       "    .dataframe tbody tr th {\n",
       "        vertical-align: top;\n",
       "    }\n",
       "\n",
       "    .dataframe thead th {\n",
       "        text-align: right;\n",
       "    }\n",
       "</style>\n",
       "<table border=\"1\" class=\"dataframe\">\n",
       "  <thead>\n",
       "    <tr style=\"text-align: right;\">\n",
       "      <th></th>\n",
       "      <th>Unnamed: 0</th>\n",
       "      <th>Happiness Rank</th>\n",
       "      <th>Country</th>\n",
       "      <th>Region</th>\n",
       "      <th>Happiness Score</th>\n",
       "      <th>Economy (GDP per Capita)</th>\n",
       "      <th>Family (Social Support)</th>\n",
       "      <th>Health (Life Expectancy)</th>\n",
       "      <th>Freedom</th>\n",
       "      <th>Trust (Government Corruption)</th>\n",
       "      <th>Generosity</th>\n",
       "      <th>Year</th>\n",
       "    </tr>\n",
       "  </thead>\n",
       "  <tbody>\n",
       "    <tr>\n",
       "      <th>1224</th>\n",
       "      <td>141</td>\n",
       "      <td>142</td>\n",
       "      <td>Botswana*</td>\n",
       "      <td>-</td>\n",
       "      <td>3,471</td>\n",
       "      <td>1,503</td>\n",
       "      <td>0,815</td>\n",
       "      <td>0,280</td>\n",
       "      <td>0,571</td>\n",
       "      <td>0,102</td>\n",
       "      <td>0,012</td>\n",
       "      <td>2022</td>\n",
       "    </tr>\n",
       "    <tr>\n",
       "      <th>1225</th>\n",
       "      <td>142</td>\n",
       "      <td>143</td>\n",
       "      <td>Rwanda*</td>\n",
       "      <td>-</td>\n",
       "      <td>3,268</td>\n",
       "      <td>0,785</td>\n",
       "      <td>0,133</td>\n",
       "      <td>0,462</td>\n",
       "      <td>0,621</td>\n",
       "      <td>0,544</td>\n",
       "      <td>0,187</td>\n",
       "      <td>2022</td>\n",
       "    </tr>\n",
       "    <tr>\n",
       "      <th>1226</th>\n",
       "      <td>143</td>\n",
       "      <td>144</td>\n",
       "      <td>Zimbabwe</td>\n",
       "      <td>Sub-Saharan Africa</td>\n",
       "      <td>2,995</td>\n",
       "      <td>0,947</td>\n",
       "      <td>0,690</td>\n",
       "      <td>0,270</td>\n",
       "      <td>0,329</td>\n",
       "      <td>0,105</td>\n",
       "      <td>0,106</td>\n",
       "      <td>2022</td>\n",
       "    </tr>\n",
       "    <tr>\n",
       "      <th>1227</th>\n",
       "      <td>144</td>\n",
       "      <td>145</td>\n",
       "      <td>Lebanon</td>\n",
       "      <td>Middle East and Northern Africa</td>\n",
       "      <td>2,955</td>\n",
       "      <td>1,392</td>\n",
       "      <td>0,498</td>\n",
       "      <td>0,631</td>\n",
       "      <td>0,103</td>\n",
       "      <td>0,034</td>\n",
       "      <td>0,082</td>\n",
       "      <td>2022</td>\n",
       "    </tr>\n",
       "    <tr>\n",
       "      <th>1228</th>\n",
       "      <td>145</td>\n",
       "      <td>146</td>\n",
       "      <td>Afghanistan</td>\n",
       "      <td>Southern Asia</td>\n",
       "      <td>2,404</td>\n",
       "      <td>0,758</td>\n",
       "      <td>0,000</td>\n",
       "      <td>0,289</td>\n",
       "      <td>0,000</td>\n",
       "      <td>0,005</td>\n",
       "      <td>0,089</td>\n",
       "      <td>2022</td>\n",
       "    </tr>\n",
       "  </tbody>\n",
       "</table>\n",
       "</div>"
      ],
      "text/plain": [
       "      Unnamed: 0  Happiness Rank      Country  \\\n",
       "1224         141             142    Botswana*   \n",
       "1225         142             143      Rwanda*   \n",
       "1226         143             144     Zimbabwe   \n",
       "1227         144             145      Lebanon   \n",
       "1228         145             146  Afghanistan   \n",
       "\n",
       "                               Region Happiness Score  \\\n",
       "1224                                -           3,471   \n",
       "1225                                -           3,268   \n",
       "1226               Sub-Saharan Africa           2,995   \n",
       "1227  Middle East and Northern Africa           2,955   \n",
       "1228                    Southern Asia           2,404   \n",
       "\n",
       "     Economy (GDP per Capita) Family (Social Support)  \\\n",
       "1224                    1,503                   0,815   \n",
       "1225                    0,785                   0,133   \n",
       "1226                    0,947                   0,690   \n",
       "1227                    1,392                   0,498   \n",
       "1228                    0,758                   0,000   \n",
       "\n",
       "     Health (Life Expectancy) Freedom Trust (Government Corruption)  \\\n",
       "1224                    0,280   0,571                         0,102   \n",
       "1225                    0,462   0,621                         0,544   \n",
       "1226                    0,270   0,329                         0,105   \n",
       "1227                    0,631   0,103                         0,034   \n",
       "1228                    0,289   0,000                         0,005   \n",
       "\n",
       "     Generosity  Year  \n",
       "1224      0,012  2022  \n",
       "1225      0,187  2022  \n",
       "1226      0,106  2022  \n",
       "1227      0,082  2022  \n",
       "1228      0,089  2022  "
      ]
     },
     "execution_count": 6,
     "metadata": {},
     "output_type": "execute_result"
    }
   ],
   "source": [
    "merged_whr.tail()"
   ]
  },
  {
   "cell_type": "code",
   "execution_count": 7,
   "id": "7cbfbd69",
   "metadata": {
    "scrolled": false
   },
   "outputs": [
    {
     "name": "stdout",
     "output_type": "stream",
     "text": [
      "<class 'pandas.core.frame.DataFrame'>\n",
      "RangeIndex: 1229 entries, 0 to 1228\n",
      "Data columns (total 12 columns):\n",
      " #   Column                         Non-Null Count  Dtype \n",
      "---  ------                         --------------  ----- \n",
      " 0   Unnamed: 0                     1229 non-null   int64 \n",
      " 1   Happiness Rank                 1229 non-null   int64 \n",
      " 2   Country                        1229 non-null   object\n",
      " 3   Region                         1229 non-null   object\n",
      " 4   Happiness Score                1229 non-null   object\n",
      " 5   Economy (GDP per Capita)       1229 non-null   object\n",
      " 6   Family (Social Support)        1229 non-null   object\n",
      " 7   Health (Life Expectancy)       1229 non-null   object\n",
      " 8   Freedom                        1229 non-null   object\n",
      " 9   Trust (Government Corruption)  1229 non-null   object\n",
      " 10  Generosity                     1229 non-null   object\n",
      " 11  Year                           1229 non-null   int64 \n",
      "dtypes: int64(3), object(9)\n",
      "memory usage: 115.3+ KB\n"
     ]
    }
   ],
   "source": [
    "merged_whr.info() \n",
    "\n",
    "#to-do: \n",
    "#1. check missing values\n",
    "#2. drop Unnamed col\n",
    "#3. replace col names\n",
    "#4. replace commas with periods\n",
    "#5. change datatype from object to float"
   ]
  },
  {
   "cell_type": "code",
   "execution_count": 8,
   "id": "2a2357fd",
   "metadata": {},
   "outputs": [
    {
     "data": {
      "text/plain": [
       "Unnamed: 0                       0\n",
       "Happiness Rank                   0\n",
       "Country                          0\n",
       "Region                           0\n",
       "Happiness Score                  0\n",
       "Economy (GDP per Capita)         0\n",
       "Family (Social Support)          0\n",
       "Health (Life Expectancy)         0\n",
       "Freedom                          0\n",
       "Trust (Government Corruption)    0\n",
       "Generosity                       0\n",
       "Year                             0\n",
       "dtype: int64"
      ]
     },
     "execution_count": 8,
     "metadata": {},
     "output_type": "execute_result"
    }
   ],
   "source": [
    "merged_whr.isnull().sum() # cleaned data without missing values"
   ]
  },
  {
   "cell_type": "code",
   "execution_count": 12,
   "id": "48321806",
   "metadata": {
    "scrolled": true
   },
   "outputs": [],
   "source": [
    "merged_whr = merged_whr.drop(['Unnamed: 0'], axis=1) # drop col \"Unnamed: 0\""
   ]
  },
  {
   "cell_type": "code",
   "execution_count": 13,
   "id": "977f7be1",
   "metadata": {},
   "outputs": [
    {
     "data": {
      "text/html": [
       "<div>\n",
       "<style scoped>\n",
       "    .dataframe tbody tr th:only-of-type {\n",
       "        vertical-align: middle;\n",
       "    }\n",
       "\n",
       "    .dataframe tbody tr th {\n",
       "        vertical-align: top;\n",
       "    }\n",
       "\n",
       "    .dataframe thead th {\n",
       "        text-align: right;\n",
       "    }\n",
       "</style>\n",
       "<table border=\"1\" class=\"dataframe\">\n",
       "  <thead>\n",
       "    <tr style=\"text-align: right;\">\n",
       "      <th></th>\n",
       "      <th>Happiness Rank</th>\n",
       "      <th>Country</th>\n",
       "      <th>Region</th>\n",
       "      <th>Happiness Score</th>\n",
       "      <th>Economy</th>\n",
       "      <th>Social Support</th>\n",
       "      <th>Health</th>\n",
       "      <th>Freedom</th>\n",
       "      <th>Corruption</th>\n",
       "      <th>Generosity</th>\n",
       "      <th>Year</th>\n",
       "    </tr>\n",
       "  </thead>\n",
       "  <tbody>\n",
       "    <tr>\n",
       "      <th>0</th>\n",
       "      <td>1</td>\n",
       "      <td>Switzerland</td>\n",
       "      <td>Western Europe</td>\n",
       "      <td>7.587</td>\n",
       "      <td>1.39651</td>\n",
       "      <td>1.34951</td>\n",
       "      <td>0.94143</td>\n",
       "      <td>0.66557</td>\n",
       "      <td>0.41978</td>\n",
       "      <td>0.29678</td>\n",
       "      <td>2015</td>\n",
       "    </tr>\n",
       "    <tr>\n",
       "      <th>1</th>\n",
       "      <td>2</td>\n",
       "      <td>Iceland</td>\n",
       "      <td>Western Europe</td>\n",
       "      <td>7.561</td>\n",
       "      <td>1.30232</td>\n",
       "      <td>1.40223</td>\n",
       "      <td>0.94784</td>\n",
       "      <td>0.62877</td>\n",
       "      <td>0.14145</td>\n",
       "      <td>0.4363</td>\n",
       "      <td>2015</td>\n",
       "    </tr>\n",
       "    <tr>\n",
       "      <th>2</th>\n",
       "      <td>3</td>\n",
       "      <td>Denmark</td>\n",
       "      <td>Western Europe</td>\n",
       "      <td>7.527</td>\n",
       "      <td>1.32548</td>\n",
       "      <td>1.36058</td>\n",
       "      <td>0.87464</td>\n",
       "      <td>0.64938</td>\n",
       "      <td>0.48357</td>\n",
       "      <td>0.34139</td>\n",
       "      <td>2015</td>\n",
       "    </tr>\n",
       "    <tr>\n",
       "      <th>3</th>\n",
       "      <td>4</td>\n",
       "      <td>Norway</td>\n",
       "      <td>Western Europe</td>\n",
       "      <td>7.522</td>\n",
       "      <td>1.459</td>\n",
       "      <td>1.33095</td>\n",
       "      <td>0.88521</td>\n",
       "      <td>0.66973</td>\n",
       "      <td>0.36503</td>\n",
       "      <td>0.34699</td>\n",
       "      <td>2015</td>\n",
       "    </tr>\n",
       "    <tr>\n",
       "      <th>4</th>\n",
       "      <td>5</td>\n",
       "      <td>Canada</td>\n",
       "      <td>North America</td>\n",
       "      <td>7.427</td>\n",
       "      <td>1.32629</td>\n",
       "      <td>1.32261</td>\n",
       "      <td>0.90563</td>\n",
       "      <td>0.63297</td>\n",
       "      <td>0.32957</td>\n",
       "      <td>0.45811</td>\n",
       "      <td>2015</td>\n",
       "    </tr>\n",
       "    <tr>\n",
       "      <th>...</th>\n",
       "      <td>...</td>\n",
       "      <td>...</td>\n",
       "      <td>...</td>\n",
       "      <td>...</td>\n",
       "      <td>...</td>\n",
       "      <td>...</td>\n",
       "      <td>...</td>\n",
       "      <td>...</td>\n",
       "      <td>...</td>\n",
       "      <td>...</td>\n",
       "      <td>...</td>\n",
       "    </tr>\n",
       "    <tr>\n",
       "      <th>1224</th>\n",
       "      <td>142</td>\n",
       "      <td>Botswana*</td>\n",
       "      <td>-</td>\n",
       "      <td>3,471</td>\n",
       "      <td>1,503</td>\n",
       "      <td>0,815</td>\n",
       "      <td>0,280</td>\n",
       "      <td>0,571</td>\n",
       "      <td>0,102</td>\n",
       "      <td>0,012</td>\n",
       "      <td>2022</td>\n",
       "    </tr>\n",
       "    <tr>\n",
       "      <th>1225</th>\n",
       "      <td>143</td>\n",
       "      <td>Rwanda*</td>\n",
       "      <td>-</td>\n",
       "      <td>3,268</td>\n",
       "      <td>0,785</td>\n",
       "      <td>0,133</td>\n",
       "      <td>0,462</td>\n",
       "      <td>0,621</td>\n",
       "      <td>0,544</td>\n",
       "      <td>0,187</td>\n",
       "      <td>2022</td>\n",
       "    </tr>\n",
       "    <tr>\n",
       "      <th>1226</th>\n",
       "      <td>144</td>\n",
       "      <td>Zimbabwe</td>\n",
       "      <td>Sub-Saharan Africa</td>\n",
       "      <td>2,995</td>\n",
       "      <td>0,947</td>\n",
       "      <td>0,690</td>\n",
       "      <td>0,270</td>\n",
       "      <td>0,329</td>\n",
       "      <td>0,105</td>\n",
       "      <td>0,106</td>\n",
       "      <td>2022</td>\n",
       "    </tr>\n",
       "    <tr>\n",
       "      <th>1227</th>\n",
       "      <td>145</td>\n",
       "      <td>Lebanon</td>\n",
       "      <td>Middle East and Northern Africa</td>\n",
       "      <td>2,955</td>\n",
       "      <td>1,392</td>\n",
       "      <td>0,498</td>\n",
       "      <td>0,631</td>\n",
       "      <td>0,103</td>\n",
       "      <td>0,034</td>\n",
       "      <td>0,082</td>\n",
       "      <td>2022</td>\n",
       "    </tr>\n",
       "    <tr>\n",
       "      <th>1228</th>\n",
       "      <td>146</td>\n",
       "      <td>Afghanistan</td>\n",
       "      <td>Southern Asia</td>\n",
       "      <td>2,404</td>\n",
       "      <td>0,758</td>\n",
       "      <td>0,000</td>\n",
       "      <td>0,289</td>\n",
       "      <td>0,000</td>\n",
       "      <td>0,005</td>\n",
       "      <td>0,089</td>\n",
       "      <td>2022</td>\n",
       "    </tr>\n",
       "  </tbody>\n",
       "</table>\n",
       "<p>1229 rows × 11 columns</p>\n",
       "</div>"
      ],
      "text/plain": [
       "      Happiness Rank      Country                           Region  \\\n",
       "0                  1  Switzerland                   Western Europe   \n",
       "1                  2      Iceland                   Western Europe   \n",
       "2                  3      Denmark                   Western Europe   \n",
       "3                  4       Norway                   Western Europe   \n",
       "4                  5       Canada                    North America   \n",
       "...              ...          ...                              ...   \n",
       "1224             142    Botswana*                                -   \n",
       "1225             143      Rwanda*                                -   \n",
       "1226             144     Zimbabwe               Sub-Saharan Africa   \n",
       "1227             145      Lebanon  Middle East and Northern Africa   \n",
       "1228             146  Afghanistan                    Southern Asia   \n",
       "\n",
       "     Happiness Score  Economy Social Support   Health  Freedom Corruption  \\\n",
       "0              7.587  1.39651        1.34951  0.94143  0.66557    0.41978   \n",
       "1              7.561  1.30232        1.40223  0.94784  0.62877    0.14145   \n",
       "2              7.527  1.32548        1.36058  0.87464  0.64938    0.48357   \n",
       "3              7.522    1.459        1.33095  0.88521  0.66973    0.36503   \n",
       "4              7.427  1.32629        1.32261  0.90563  0.63297    0.32957   \n",
       "...              ...      ...            ...      ...      ...        ...   \n",
       "1224           3,471    1,503          0,815    0,280    0,571      0,102   \n",
       "1225           3,268    0,785          0,133    0,462    0,621      0,544   \n",
       "1226           2,995    0,947          0,690    0,270    0,329      0,105   \n",
       "1227           2,955    1,392          0,498    0,631    0,103      0,034   \n",
       "1228           2,404    0,758          0,000    0,289    0,000      0,005   \n",
       "\n",
       "     Generosity  Year  \n",
       "0       0.29678  2015  \n",
       "1        0.4363  2015  \n",
       "2       0.34139  2015  \n",
       "3       0.34699  2015  \n",
       "4       0.45811  2015  \n",
       "...         ...   ...  \n",
       "1224      0,012  2022  \n",
       "1225      0,187  2022  \n",
       "1226      0,106  2022  \n",
       "1227      0,082  2022  \n",
       "1228      0,089  2022  \n",
       "\n",
       "[1229 rows x 11 columns]"
      ]
     },
     "execution_count": 13,
     "metadata": {},
     "output_type": "execute_result"
    }
   ],
   "source": [
    "# change column names\n",
    "merged_whr = merged_whr.rename(columns={'Economy (GDP per Capita)':'Economy', \n",
    "                                        'Family (Social Support)':'Social Support',\n",
    "                                        'Health (Life Expectancy)':'Health',\n",
    "                                        'Trust (Government Corruption)':'Corruption'})\n",
    "\n",
    "merged_whr"
   ]
  },
  {
   "cell_type": "code",
   "execution_count": 24,
   "id": "9a270dc8",
   "metadata": {
    "scrolled": false
   },
   "outputs": [
    {
     "data": {
      "text/plain": [
       "['Happiness Rank',\n",
       " 'Country',\n",
       " 'Region',\n",
       " 'Happiness Score',\n",
       " 'Economy',\n",
       " 'Social Support',\n",
       " 'Health',\n",
       " 'Freedom',\n",
       " 'Corruption',\n",
       " 'Generosity',\n",
       " 'Year']"
      ]
     },
     "execution_count": 24,
     "metadata": {},
     "output_type": "execute_result"
    }
   ],
   "source": [
    "col_names = merged_whr.columns.to_list()\n",
    "col_names"
   ]
  },
  {
   "cell_type": "code",
   "execution_count": 26,
   "id": "cdf94a5e",
   "metadata": {
    "scrolled": false
   },
   "outputs": [
    {
     "data": {
      "text/plain": [
       "['Happiness Score',\n",
       " 'Economy',\n",
       " 'Social Support',\n",
       " 'Health',\n",
       " 'Freedom',\n",
       " 'Corruption',\n",
       " 'Generosity']"
      ]
     },
     "execution_count": 26,
     "metadata": {},
     "output_type": "execute_result"
    }
   ],
   "source": [
    "col_to_float = col_names[3:10]\n",
    "col_to_float"
   ]
  },
  {
   "cell_type": "code",
   "execution_count": 27,
   "id": "7083eb5a",
   "metadata": {},
   "outputs": [],
   "source": [
    "def replace_comma(df, col_name):\n",
    "    for idx in range(len(df[col_name])):\n",
    "        df[col_name][idx] = df[col_name][idx].replace(\",\", \".\")\n",
    "        \n",
    "    return df[col_name]"
   ]
  },
  {
   "cell_type": "code",
   "execution_count": 28,
   "id": "36389661",
   "metadata": {},
   "outputs": [
    {
     "name": "stderr",
     "output_type": "stream",
     "text": [
      "/var/folders/ph/5s8lb5y90zq6_3_rmws41nw00000gn/T/ipykernel_950/3227002703.py:3: SettingWithCopyWarning: \n",
      "A value is trying to be set on a copy of a slice from a DataFrame\n",
      "\n",
      "See the caveats in the documentation: https://pandas.pydata.org/pandas-docs/stable/user_guide/indexing.html#returning-a-view-versus-a-copy\n",
      "  df[col_name][idx] = df[col_name][idx].replace(\",\", \".\")\n"
     ]
    }
   ],
   "source": [
    "for col_name in col_to_float:\n",
    "    replace_comma(merged_whr, col_name)"
   ]
  },
  {
   "cell_type": "code",
   "execution_count": 29,
   "id": "fa00de9f",
   "metadata": {
    "scrolled": false
   },
   "outputs": [
    {
     "data": {
      "text/html": [
       "<div>\n",
       "<style scoped>\n",
       "    .dataframe tbody tr th:only-of-type {\n",
       "        vertical-align: middle;\n",
       "    }\n",
       "\n",
       "    .dataframe tbody tr th {\n",
       "        vertical-align: top;\n",
       "    }\n",
       "\n",
       "    .dataframe thead th {\n",
       "        text-align: right;\n",
       "    }\n",
       "</style>\n",
       "<table border=\"1\" class=\"dataframe\">\n",
       "  <thead>\n",
       "    <tr style=\"text-align: right;\">\n",
       "      <th></th>\n",
       "      <th>Happiness Rank</th>\n",
       "      <th>Country</th>\n",
       "      <th>Region</th>\n",
       "      <th>Happiness Score</th>\n",
       "      <th>Economy</th>\n",
       "      <th>Social Support</th>\n",
       "      <th>Health</th>\n",
       "      <th>Freedom</th>\n",
       "      <th>Corruption</th>\n",
       "      <th>Generosity</th>\n",
       "      <th>Year</th>\n",
       "    </tr>\n",
       "  </thead>\n",
       "  <tbody>\n",
       "    <tr>\n",
       "      <th>1224</th>\n",
       "      <td>142</td>\n",
       "      <td>Botswana*</td>\n",
       "      <td>-</td>\n",
       "      <td>3.471</td>\n",
       "      <td>1.503</td>\n",
       "      <td>0.815</td>\n",
       "      <td>0.280</td>\n",
       "      <td>0.571</td>\n",
       "      <td>0.102</td>\n",
       "      <td>0.012</td>\n",
       "      <td>2022</td>\n",
       "    </tr>\n",
       "    <tr>\n",
       "      <th>1225</th>\n",
       "      <td>143</td>\n",
       "      <td>Rwanda*</td>\n",
       "      <td>-</td>\n",
       "      <td>3.268</td>\n",
       "      <td>0.785</td>\n",
       "      <td>0.133</td>\n",
       "      <td>0.462</td>\n",
       "      <td>0.621</td>\n",
       "      <td>0.544</td>\n",
       "      <td>0.187</td>\n",
       "      <td>2022</td>\n",
       "    </tr>\n",
       "    <tr>\n",
       "      <th>1226</th>\n",
       "      <td>144</td>\n",
       "      <td>Zimbabwe</td>\n",
       "      <td>Sub-Saharan Africa</td>\n",
       "      <td>2.995</td>\n",
       "      <td>0.947</td>\n",
       "      <td>0.690</td>\n",
       "      <td>0.270</td>\n",
       "      <td>0.329</td>\n",
       "      <td>0.105</td>\n",
       "      <td>0.106</td>\n",
       "      <td>2022</td>\n",
       "    </tr>\n",
       "    <tr>\n",
       "      <th>1227</th>\n",
       "      <td>145</td>\n",
       "      <td>Lebanon</td>\n",
       "      <td>Middle East and Northern Africa</td>\n",
       "      <td>2.955</td>\n",
       "      <td>1.392</td>\n",
       "      <td>0.498</td>\n",
       "      <td>0.631</td>\n",
       "      <td>0.103</td>\n",
       "      <td>0.034</td>\n",
       "      <td>0.082</td>\n",
       "      <td>2022</td>\n",
       "    </tr>\n",
       "    <tr>\n",
       "      <th>1228</th>\n",
       "      <td>146</td>\n",
       "      <td>Afghanistan</td>\n",
       "      <td>Southern Asia</td>\n",
       "      <td>2.404</td>\n",
       "      <td>0.758</td>\n",
       "      <td>0.000</td>\n",
       "      <td>0.289</td>\n",
       "      <td>0.000</td>\n",
       "      <td>0.005</td>\n",
       "      <td>0.089</td>\n",
       "      <td>2022</td>\n",
       "    </tr>\n",
       "  </tbody>\n",
       "</table>\n",
       "</div>"
      ],
      "text/plain": [
       "      Happiness Rank      Country                           Region  \\\n",
       "1224             142    Botswana*                                -   \n",
       "1225             143      Rwanda*                                -   \n",
       "1226             144     Zimbabwe               Sub-Saharan Africa   \n",
       "1227             145      Lebanon  Middle East and Northern Africa   \n",
       "1228             146  Afghanistan                    Southern Asia   \n",
       "\n",
       "     Happiness Score Economy Social Support Health Freedom Corruption  \\\n",
       "1224           3.471   1.503          0.815  0.280   0.571      0.102   \n",
       "1225           3.268   0.785          0.133  0.462   0.621      0.544   \n",
       "1226           2.995   0.947          0.690  0.270   0.329      0.105   \n",
       "1227           2.955   1.392          0.498  0.631   0.103      0.034   \n",
       "1228           2.404   0.758          0.000  0.289   0.000      0.005   \n",
       "\n",
       "     Generosity  Year  \n",
       "1224      0.012  2022  \n",
       "1225      0.187  2022  \n",
       "1226      0.106  2022  \n",
       "1227      0.082  2022  \n",
       "1228      0.089  2022  "
      ]
     },
     "execution_count": 29,
     "metadata": {},
     "output_type": "execute_result"
    }
   ],
   "source": [
    "merged_whr.tail() # looks like commas are subbed with periods"
   ]
  },
  {
   "cell_type": "code",
   "execution_count": 30,
   "id": "f981b990",
   "metadata": {},
   "outputs": [],
   "source": [
    "# change col datatype from object to float\n",
    "for col_name in col_to_float:\n",
    "    merged_whr[col_name] = merged_whr[col_name].astype(float)\n"
   ]
  },
  {
   "cell_type": "code",
   "execution_count": 31,
   "id": "8c04489a",
   "metadata": {
    "scrolled": true
   },
   "outputs": [
    {
     "name": "stdout",
     "output_type": "stream",
     "text": [
      "<class 'pandas.core.frame.DataFrame'>\n",
      "RangeIndex: 1229 entries, 0 to 1228\n",
      "Data columns (total 11 columns):\n",
      " #   Column           Non-Null Count  Dtype  \n",
      "---  ------           --------------  -----  \n",
      " 0   Happiness Rank   1229 non-null   int64  \n",
      " 1   Country          1229 non-null   object \n",
      " 2   Region           1229 non-null   object \n",
      " 3   Happiness Score  1229 non-null   float64\n",
      " 4   Economy          1229 non-null   float64\n",
      " 5   Social Support   1229 non-null   float64\n",
      " 6   Health           1229 non-null   float64\n",
      " 7   Freedom          1229 non-null   float64\n",
      " 8   Corruption       1229 non-null   float64\n",
      " 9   Generosity       1229 non-null   float64\n",
      " 10  Year             1229 non-null   int64  \n",
      "dtypes: float64(7), int64(2), object(2)\n",
      "memory usage: 105.7+ KB\n"
     ]
    }
   ],
   "source": [
    "merged_whr.info()"
   ]
  },
  {
   "cell_type": "code",
   "execution_count": 53,
   "id": "d09e5c11",
   "metadata": {
    "scrolled": true
   },
   "outputs": [
    {
     "data": {
      "text/html": [
       "<div>\n",
       "<style scoped>\n",
       "    .dataframe tbody tr th:only-of-type {\n",
       "        vertical-align: middle;\n",
       "    }\n",
       "\n",
       "    .dataframe tbody tr th {\n",
       "        vertical-align: top;\n",
       "    }\n",
       "\n",
       "    .dataframe thead th {\n",
       "        text-align: right;\n",
       "    }\n",
       "</style>\n",
       "<table border=\"1\" class=\"dataframe\">\n",
       "  <thead>\n",
       "    <tr style=\"text-align: right;\">\n",
       "      <th></th>\n",
       "      <th>Happiness Rank</th>\n",
       "      <th>Happiness Score</th>\n",
       "      <th>Economy</th>\n",
       "      <th>Social Support</th>\n",
       "      <th>Health</th>\n",
       "      <th>Freedom</th>\n",
       "      <th>Corruption</th>\n",
       "      <th>Generosity</th>\n",
       "      <th>Year</th>\n",
       "    </tr>\n",
       "  </thead>\n",
       "  <tbody>\n",
       "    <tr>\n",
       "      <th>count</th>\n",
       "      <td>1229.000000</td>\n",
       "      <td>1229.000000</td>\n",
       "      <td>1229.000000</td>\n",
       "      <td>1229.000000</td>\n",
       "      <td>1229.000000</td>\n",
       "      <td>1229.000000</td>\n",
       "      <td>1229.000000</td>\n",
       "      <td>1229.000000</td>\n",
       "      <td>1229.000000</td>\n",
       "    </tr>\n",
       "    <tr>\n",
       "      <th>mean</th>\n",
       "      <td>77.468674</td>\n",
       "      <td>5.428998</td>\n",
       "      <td>0.975343</td>\n",
       "      <td>1.033193</td>\n",
       "      <td>0.608082</td>\n",
       "      <td>0.440960</td>\n",
       "      <td>0.130756</td>\n",
       "      <td>0.201595</td>\n",
       "      <td>2018.447518</td>\n",
       "    </tr>\n",
       "    <tr>\n",
       "      <th>std</th>\n",
       "      <td>44.474181</td>\n",
       "      <td>1.115155</td>\n",
       "      <td>0.434249</td>\n",
       "      <td>0.329578</td>\n",
       "      <td>0.241340</td>\n",
       "      <td>0.154412</td>\n",
       "      <td>0.110818</td>\n",
       "      <td>0.115568</td>\n",
       "      <td>2.283610</td>\n",
       "    </tr>\n",
       "    <tr>\n",
       "      <th>min</th>\n",
       "      <td>1.000000</td>\n",
       "      <td>2.404000</td>\n",
       "      <td>0.000000</td>\n",
       "      <td>0.000000</td>\n",
       "      <td>0.000000</td>\n",
       "      <td>0.000000</td>\n",
       "      <td>0.000000</td>\n",
       "      <td>0.000000</td>\n",
       "      <td>2015.000000</td>\n",
       "    </tr>\n",
       "    <tr>\n",
       "      <th>25%</th>\n",
       "      <td>39.000000</td>\n",
       "      <td>4.584000</td>\n",
       "      <td>0.668000</td>\n",
       "      <td>0.828000</td>\n",
       "      <td>0.439000</td>\n",
       "      <td>0.345000</td>\n",
       "      <td>0.056000</td>\n",
       "      <td>0.118000</td>\n",
       "      <td>2016.000000</td>\n",
       "    </tr>\n",
       "    <tr>\n",
       "      <th>50%</th>\n",
       "      <td>77.000000</td>\n",
       "      <td>5.410000</td>\n",
       "      <td>1.012160</td>\n",
       "      <td>1.069336</td>\n",
       "      <td>0.639333</td>\n",
       "      <td>0.459000</td>\n",
       "      <td>0.096000</td>\n",
       "      <td>0.187000</td>\n",
       "      <td>2018.000000</td>\n",
       "    </tr>\n",
       "    <tr>\n",
       "      <th>75%</th>\n",
       "      <td>116.000000</td>\n",
       "      <td>6.223000</td>\n",
       "      <td>1.295843</td>\n",
       "      <td>1.273850</td>\n",
       "      <td>0.790810</td>\n",
       "      <td>0.559000</td>\n",
       "      <td>0.164000</td>\n",
       "      <td>0.258538</td>\n",
       "      <td>2020.000000</td>\n",
       "    </tr>\n",
       "    <tr>\n",
       "      <th>max</th>\n",
       "      <td>158.000000</td>\n",
       "      <td>7.842000</td>\n",
       "      <td>2.209000</td>\n",
       "      <td>1.644000</td>\n",
       "      <td>1.141000</td>\n",
       "      <td>0.740000</td>\n",
       "      <td>0.587000</td>\n",
       "      <td>0.838075</td>\n",
       "      <td>2022.000000</td>\n",
       "    </tr>\n",
       "  </tbody>\n",
       "</table>\n",
       "</div>"
      ],
      "text/plain": [
       "       Happiness Rank  Happiness Score      Economy  Social Support  \\\n",
       "count     1229.000000      1229.000000  1229.000000     1229.000000   \n",
       "mean        77.468674         5.428998     0.975343        1.033193   \n",
       "std         44.474181         1.115155     0.434249        0.329578   \n",
       "min          1.000000         2.404000     0.000000        0.000000   \n",
       "25%         39.000000         4.584000     0.668000        0.828000   \n",
       "50%         77.000000         5.410000     1.012160        1.069336   \n",
       "75%        116.000000         6.223000     1.295843        1.273850   \n",
       "max        158.000000         7.842000     2.209000        1.644000   \n",
       "\n",
       "            Health      Freedom   Corruption   Generosity         Year  \n",
       "count  1229.000000  1229.000000  1229.000000  1229.000000  1229.000000  \n",
       "mean      0.608082     0.440960     0.130756     0.201595  2018.447518  \n",
       "std       0.241340     0.154412     0.110818     0.115568     2.283610  \n",
       "min       0.000000     0.000000     0.000000     0.000000  2015.000000  \n",
       "25%       0.439000     0.345000     0.056000     0.118000  2016.000000  \n",
       "50%       0.639333     0.459000     0.096000     0.187000  2018.000000  \n",
       "75%       0.790810     0.559000     0.164000     0.258538  2020.000000  \n",
       "max       1.141000     0.740000     0.587000     0.838075  2022.000000  "
      ]
     },
     "execution_count": 53,
     "metadata": {},
     "output_type": "execute_result"
    }
   ],
   "source": [
    "merged_whr.describe()"
   ]
  },
  {
   "cell_type": "code",
   "execution_count": 41,
   "id": "ec107b94",
   "metadata": {},
   "outputs": [
    {
     "data": {
      "text/plain": [
       "195"
      ]
     },
     "execution_count": 41,
     "metadata": {},
     "output_type": "execute_result"
    }
   ],
   "source": [
    "merged_whr['Country'].nunique()"
   ]
  },
  {
   "cell_type": "code",
   "execution_count": 43,
   "id": "ce6b0e0c",
   "metadata": {
    "scrolled": false
   },
   "outputs": [
    {
     "data": {
      "text/plain": [
       "['Afghanistan',\n",
       " 'Albania',\n",
       " 'Algeria',\n",
       " 'Angola',\n",
       " 'Argentina',\n",
       " 'Armenia',\n",
       " 'Australia',\n",
       " 'Austria',\n",
       " 'Azerbaijan',\n",
       " 'Azerbaijan*',\n",
       " 'Bahrain',\n",
       " 'Bangladesh',\n",
       " 'Belarus',\n",
       " 'Belarus*',\n",
       " 'Belgium',\n",
       " 'Belize',\n",
       " 'Benin',\n",
       " 'Bhutan',\n",
       " 'Bolivia',\n",
       " 'Bosnia and Herzegovina',\n",
       " 'Botswana',\n",
       " 'Botswana*',\n",
       " 'Brazil',\n",
       " 'Bulgaria',\n",
       " 'Burkina Faso',\n",
       " 'Burundi',\n",
       " 'Cambodia',\n",
       " 'Cameroon',\n",
       " 'Canada',\n",
       " 'Central African Republic',\n",
       " 'Chad',\n",
       " 'Chad*',\n",
       " 'Chile',\n",
       " 'China',\n",
       " 'Colombia',\n",
       " 'Comoros',\n",
       " 'Comoros*',\n",
       " 'Congo',\n",
       " 'Congo (Brazzaville)',\n",
       " 'Congo (Kinshasa)',\n",
       " 'Costa Rica',\n",
       " 'Croatia',\n",
       " 'Cyprus',\n",
       " 'Czech Republic',\n",
       " 'Czechia',\n",
       " 'Denmark',\n",
       " 'Djibouti',\n",
       " 'Dominican Republic',\n",
       " 'Ecuador',\n",
       " 'Egypt',\n",
       " 'El Salvador',\n",
       " 'Estonia',\n",
       " 'Eswatini, Kingdom of*',\n",
       " 'Ethiopia',\n",
       " 'Finland',\n",
       " 'France',\n",
       " 'Gabon',\n",
       " 'Gambia',\n",
       " 'Gambia*',\n",
       " 'Georgia',\n",
       " 'Germany',\n",
       " 'Ghana',\n",
       " 'Greece',\n",
       " 'Guatemala',\n",
       " 'Guatemala*',\n",
       " 'Guinea',\n",
       " 'Haiti',\n",
       " 'Honduras',\n",
       " 'Hong Kong',\n",
       " 'Hong Kong S.A.R. of China',\n",
       " 'Hong Kong S.A.R., China',\n",
       " 'Hungary',\n",
       " 'Iceland',\n",
       " 'India',\n",
       " 'Indonesia',\n",
       " 'Iran',\n",
       " 'Iraq',\n",
       " 'Ireland',\n",
       " 'Israel',\n",
       " 'Italy',\n",
       " 'Ivory Coast',\n",
       " 'Jamaica',\n",
       " 'Japan',\n",
       " 'Jordan',\n",
       " 'Kazakhstan',\n",
       " 'Kenya',\n",
       " 'Kosovo',\n",
       " 'Kuwait',\n",
       " 'Kuwait*',\n",
       " 'Kyrgyzstan',\n",
       " 'Laos',\n",
       " 'Latvia',\n",
       " 'Lebanon',\n",
       " 'Lesotho',\n",
       " 'Lesotho*',\n",
       " 'Liberia',\n",
       " 'Liberia*',\n",
       " 'Libya',\n",
       " 'Libya*',\n",
       " 'Lithuania',\n",
       " 'Luxembourg',\n",
       " 'Luxembourg*',\n",
       " 'Macedonia',\n",
       " 'Madagascar',\n",
       " 'Madagascar*',\n",
       " 'Malawi',\n",
       " 'Malaysia',\n",
       " 'Maldives',\n",
       " 'Mali',\n",
       " 'Malta',\n",
       " 'Mauritania',\n",
       " 'Mauritania*',\n",
       " 'Mauritius',\n",
       " 'Mexico',\n",
       " 'Moldova',\n",
       " 'Mongolia',\n",
       " 'Montenegro',\n",
       " 'Morocco',\n",
       " 'Mozambique',\n",
       " 'Myanmar',\n",
       " 'Namibia',\n",
       " 'Nepal',\n",
       " 'Netherlands',\n",
       " 'New Zealand',\n",
       " 'Nicaragua',\n",
       " 'Niger',\n",
       " 'Niger*',\n",
       " 'Nigeria',\n",
       " 'North Cyprus',\n",
       " 'North Cyprus*',\n",
       " 'North Macedonia',\n",
       " 'Northern Cyprus',\n",
       " 'Norway',\n",
       " 'Oman',\n",
       " 'Pakistan',\n",
       " 'Palestinian Territories',\n",
       " 'Palestinian Territories*',\n",
       " 'Panama',\n",
       " 'Paraguay',\n",
       " 'Peru',\n",
       " 'Philippines',\n",
       " 'Poland',\n",
       " 'Portugal',\n",
       " 'Puerto Rico',\n",
       " 'Qatar',\n",
       " 'Romania',\n",
       " 'Russia',\n",
       " 'Rwanda',\n",
       " 'Rwanda*',\n",
       " 'Saudi Arabia',\n",
       " 'Senegal',\n",
       " 'Serbia',\n",
       " 'Sierra Leone',\n",
       " 'Singapore',\n",
       " 'Slovakia',\n",
       " 'Slovenia',\n",
       " 'Somalia',\n",
       " 'Somaliland Region',\n",
       " 'Somaliland region',\n",
       " 'South Africa',\n",
       " 'South Korea',\n",
       " 'South Sudan',\n",
       " 'Spain',\n",
       " 'Sri Lanka',\n",
       " 'Sudan',\n",
       " 'Suriname',\n",
       " 'Swaziland',\n",
       " 'Sweden',\n",
       " 'Switzerland',\n",
       " 'Syria',\n",
       " 'Taiwan',\n",
       " 'Taiwan Province of China',\n",
       " 'Tajikistan',\n",
       " 'Tanzania',\n",
       " 'Thailand',\n",
       " 'Togo',\n",
       " 'Trinidad & Tobago',\n",
       " 'Trinidad and Tobago',\n",
       " 'Tunisia',\n",
       " 'Turkey',\n",
       " 'Turkmenistan',\n",
       " 'Turkmenistan*',\n",
       " 'Uganda',\n",
       " 'Ukraine',\n",
       " 'United Arab Emirates',\n",
       " 'United Kingdom',\n",
       " 'United States',\n",
       " 'Uruguay',\n",
       " 'Uzbekistan',\n",
       " 'Venezuela',\n",
       " 'Vietnam',\n",
       " 'Yemen',\n",
       " 'Yemen*',\n",
       " 'Zambia',\n",
       " 'Zimbabwe']"
      ]
     },
     "execution_count": 43,
     "metadata": {},
     "output_type": "execute_result"
    }
   ],
   "source": [
    "sorted(merged_whr['Country'].unique())"
   ]
  },
  {
   "cell_type": "code",
   "execution_count": null,
   "id": "5a5e8a16",
   "metadata": {},
   "outputs": [],
   "source": [
    "# merged_whr[merged_whr['Year'] == 2022]"
   ]
  },
  {
   "cell_type": "markdown",
   "id": "20721d44",
   "metadata": {},
   "source": [
    "## Visualize the Features"
   ]
  },
  {
   "cell_type": "code",
   "execution_count": 39,
   "id": "c11fe129",
   "metadata": {
    "scrolled": true
   },
   "outputs": [
    {
     "data": {
      "text/plain": [
       "Text(0.5, 1.0, 'Histogram of Happiness Score')"
      ]
     },
     "execution_count": 39,
     "metadata": {},
     "output_type": "execute_result"
    },
    {
     "data": {
      "image/png": "[encoded data removed]",
      "text/plain": [
       "<Figure size 1152x360 with 1 Axes>"
      ]
     },
     "metadata": {
      "needs_background": "light"
     },
     "output_type": "display_data"
    }
   ],
   "source": [
    "# Histogram of Happiness Score\n",
    "f1, axes = plt.subplots(1,1, figsize = (16, 5))\n",
    "g1 = sns.histplot(merged_whr[\"Happiness Score\"], color=\"orange\",ax = axes)\n",
    "plt.title(\"Histogram of Happiness Score\")"
   ]
  },
  {
   "cell_type": "code",
   "execution_count": 45,
   "id": "8cb83001",
   "metadata": {},
   "outputs": [
    {
     "data": {
      "text/plain": [
       "Text(0.5, 1.0, 'Histogram of Economy')"
      ]
     },
     "execution_count": 45,
     "metadata": {},
     "output_type": "execute_result"
    },
    {
     "data": {
      "image/png": "[encoded data removed]",
      "text/plain": [
       "<Figure size 1152x360 with 1 Axes>"
      ]
     },
     "metadata": {
      "needs_background": "light"
     },
     "output_type": "display_data"
    }
   ],
   "source": [
    "# Histogram of Economy\n",
    "f2, axes = plt.subplots(1,1, figsize = (16, 5))\n",
    "g1 = sns.histplot(merged_whr[\"Economy\"], color=\"brown\",ax = axes)\n",
    "plt.title(\"Histogram of Economy\")"
   ]
  },
  {
   "cell_type": "code",
   "execution_count": 47,
   "id": "77455027",
   "metadata": {},
   "outputs": [
    {
     "data": {
      "text/plain": [
       "Text(0.5, 1.0, 'Histogram of Social Support')"
      ]
     },
     "execution_count": 47,
     "metadata": {},
     "output_type": "execute_result"
    },
    {
     "data": {
      "image/png": "[encoded data removed]",
      "text/plain": [
       "<Figure size 1152x360 with 1 Axes>"
      ]
     },
     "metadata": {
      "needs_background": "light"
     },
     "output_type": "display_data"
    }
   ],
   "source": [
    "# Histogram of Social Support\n",
    "f3, axes = plt.subplots(1,1, figsize = (16, 5))\n",
    "g1 = sns.histplot(merged_whr[\"Social Support\"], color=\"red\",ax = axes)\n",
    "plt.title(\"Histogram of Social Support\")"
   ]
  },
  {
   "cell_type": "code",
   "execution_count": 50,
   "id": "383f53e7",
   "metadata": {
    "scrolled": true
   },
   "outputs": [
    {
     "data": {
      "text/plain": [
       "Text(0.5, 1.0, 'Histogram of Freedom')"
      ]
     },
     "execution_count": 50,
     "metadata": {},
     "output_type": "execute_result"
    },
    {
     "data": {
      "image/png": "[encoded data removed]",
      "text/plain": [
       "<Figure size 1152x360 with 1 Axes>"
      ]
     },
     "metadata": {
      "needs_background": "light"
     },
     "output_type": "display_data"
    }
   ],
   "source": [
    "# Histogram of Freedom\n",
    "f4, axes = plt.subplots(1,1, figsize = (16, 5))\n",
    "g1 = sns.histplot(merged_whr[\"Freedom\"], color=\"skyblue\",ax = axes)\n",
    "plt.title(\"Histogram of Freedom\")"
   ]
  },
  {
   "cell_type": "code",
   "execution_count": 51,
   "id": "6463353d",
   "metadata": {},
   "outputs": [
    {
     "data": {
      "text/plain": [
       "Text(0.5, 1.0, 'Histogram of Corruption')"
      ]
     },
     "execution_count": 51,
     "metadata": {},
     "output_type": "execute_result"
    },
    {
     "data": {
      "image/png": "[encoded data removed]",
      "text/plain": [
       "<Figure size 1152x360 with 1 Axes>"
      ]
     },
     "metadata": {
      "needs_background": "light"
     },
     "output_type": "display_data"
    }
   ],
   "source": [
    "# Histogram of Corruption\n",
    "f5, axes = plt.subplots(1,1, figsize = (16, 5))\n",
    "g1 = sns.histplot(merged_whr[\"Corruption\"], color=\"green\",ax = axes)\n",
    "plt.title(\"Histogram of Corruption\")"
   ]
  },
  {
   "cell_type": "code",
   "execution_count": 52,
   "id": "e30c9652",
   "metadata": {},
   "outputs": [
    {
     "data": {
      "text/plain": [
       "Text(0.5, 1.0, 'Histogram of Health')"
      ]
     },
     "execution_count": 52,
     "metadata": {},
     "output_type": "execute_result"
    },
    {
     "data": {
      "image/png": "[encoded data removed]",
      "text/plain": [
       "<Figure size 1152x360 with 1 Axes>"
      ]
     },
     "metadata": {
      "needs_background": "light"
     },
     "output_type": "display_data"
    }
   ],
   "source": [
    "# Histogram of Health\n",
    "f6, axes = plt.subplots(1,1, figsize = (16, 5))\n",
    "g1 = sns.histplot(merged_whr[\"Health\"], color=\"blue\",ax = axes)\n",
    "plt.title(\"Histogram of Health\")"
   ]
  },
  {
   "cell_type": "code",
   "execution_count": null,
   "id": "9d471f4d",
   "metadata": {},
   "outputs": [],
   "source": []
  }
 ],
 "metadata": {
  "kernelspec": {
   "display_name": "Python 3 (ipykernel)",
   "language": "python",
   "name": "python3"
  },
  "language_info": {
   "codemirror_mode": {
    "name": "ipython",
    "version": 3
   },
   "file_extension": ".py",
   "mimetype": "text/x-python",
   "name": "python",
   "nbconvert_exporter": "python",
   "pygments_lexer": "ipython3",
   "version": "3.10.4"
  }
 },
 "nbformat": 4,
 "nbformat_minor": 5
}
